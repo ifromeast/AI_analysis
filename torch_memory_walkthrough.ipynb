{
 "cells": [
  {
   "cell_type": "code",
   "execution_count": 1,
   "metadata": {},
   "outputs": [
    {
     "name": "stderr",
     "output_type": "stream",
     "text": [
      "/home/zzd/miniconda3/envs/test/lib/python3.10/site-packages/tqdm/auto.py:21: TqdmWarning: IProgress not found. Please update jupyter and ipywidgets. See https://ipywidgets.readthedocs.io/en/stable/user_install.html\n",
      "  from .autonotebook import tqdm as notebook_tqdm\n",
      "Sliding Window Attention is enabled but not implemented for `sdpa`; unexpected results may be encountered.\n"
     ]
    }
   ],
   "source": [
    "import torch\n",
    "from transformers import AutoModelForCausalLM\n",
    "\n",
    "# Start recording memory snapshot history\n",
    "torch.cuda.memory._record_memory_history(max_entries=100000)\n",
    "\n",
    "model = AutoModelForCausalLM.from_pretrained(\"/data/ckpt/Qwen/Qwen2.5-0.5B\").to(\"cuda\")\n",
    "optimizer = torch.optim.AdamW(model.parameters(), lr=1e-3)\n",
    "inputs = torch.randint(0, 100, (10, 256), device=\"cuda\")  # Dummy input\n",
    "\n",
    "for i in range(3):\n",
    "    input = inputs[i:i+2]\n",
    "    loss = torch.mean(model(inputs).logits)  # Dummy loss\n",
    "    loss.backward()\n",
    "    optimizer.step()\n",
    "    optimizer.zero_grad()\n",
    "\n",
    "# Dump memory snapshot history to a file and stop recording\n",
    "torch.cuda.memory._dump_snapshot(\"profile3.pkl\")\n",
    "torch.cuda.memory._record_memory_history(enabled=None)\n"
   ]
  },
  {
   "cell_type": "markdown",
   "metadata": {},
   "source": [
    "![image.png](images/image.png)"
   ]
  }
 ],
 "metadata": {
  "kernelspec": {
   "display_name": "test",
   "language": "python",
   "name": "python3"
  },
  "language_info": {
   "codemirror_mode": {
    "name": "ipython",
    "version": 3
   },
   "file_extension": ".py",
   "mimetype": "text/x-python",
   "name": "python",
   "nbconvert_exporter": "python",
   "pygments_lexer": "ipython3",
   "version": "3.10.16"
  }
 },
 "nbformat": 4,
 "nbformat_minor": 2
}
