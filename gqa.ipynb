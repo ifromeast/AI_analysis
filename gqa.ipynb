{
 "cells": [
  {
   "cell_type": "markdown",
   "metadata": {},
   "source": [
    "## MHA attention 操作"
   ]
  },
  {
   "cell_type": "code",
   "execution_count": 2,
   "metadata": {},
   "outputs": [
    {
     "name": "stdout",
     "output_type": "stream",
     "text": [
      "torch.Size([1, 256, 8, 64])\n"
     ]
    }
   ],
   "source": [
    "import torch\n",
    "from torch.nn.functional import scaled_dot_product_attention\n",
    "\n",
    "# shapes: (batch_size, seq_len, num_heads, head_dim)\n",
    "query = torch.randn(1, 256, 8, 64)\n",
    "key = torch.randn(1, 256, 8, 64)\n",
    "value = torch.randn(1, 256, 8, 64)\n",
    "\n",
    "output = scaled_dot_product_attention(query, key, value)\n",
    "print(output.shape) # torch.Size([1, 256, 8, 64])"
   ]
  },
  {
   "cell_type": "markdown",
   "metadata": {},
   "source": [
    "## 逐步拆解 GQA"
   ]
  },
  {
   "cell_type": "code",
   "execution_count": 7,
   "metadata": {},
   "outputs": [
    {
     "name": "stdout",
     "output_type": "stream",
     "text": [
      "4\n"
     ]
    }
   ],
   "source": [
    "import torch\n",
    "\n",
    "# shapes: (batch_size, seq_len, num_heads, head_dim)\n",
    "query = torch.randn(1, 256, 8, 64)\n",
    "key = torch.randn(1, 256, 2, 64)\n",
    "value = torch.randn(1, 256, 2, 64)\n",
    "\n",
    "num_head_groups = query.shape[2] // key.shape[2]\n",
    "print(num_head_groups) # each group is of size 4 since there are 2 kv_heads"
   ]
  },
  {
   "cell_type": "code",
   "execution_count": 8,
   "metadata": {},
   "outputs": [
    {
     "name": "stdout",
     "output_type": "stream",
     "text": [
      "torch.Size([1, 4, 2, 256, 64])\n"
     ]
    }
   ],
   "source": [
    "from einops import rearrange\n",
    "\n",
    "query = rearrange(query, \"b n h d -> b h n d\")  # [1, 8, 256, 64]\n",
    "key = rearrange(key, \"b s h d -> b h s d\")      # [1, 2, 256, 64]\n",
    "value = rearrange(value, \"b s h d -> b h s d\")  # [1, 2, 256, 64]\n",
    "\n",
    "query = rearrange(query, \"b (h g) n d -> b g h n d\", g=num_head_groups)  # [1, 4, 2, 256, 64]\n",
    "print(query.shape)"
   ]
  },
  {
   "cell_type": "markdown",
   "metadata": {},
   "source": [
    "这一步比较关键，实际上进行了 2 步操作：\n",
    "1. 矩阵乘法 (1, 4, 2, 256, 64) @ (1, 2, 256, 64) --> (1,4,2,256,256)\n",
    "2. 沿着 g 的维度进行求和操作，最终得到 (1,2,256,256)"
   ]
  },
  {
   "cell_type": "code",
   "execution_count": 9,
   "metadata": {},
   "outputs": [
    {
     "name": "stdout",
     "output_type": "stream",
     "text": [
      "torch.Size([1, 2, 256, 256])\n"
     ]
    }
   ],
   "source": [
    "from einops import einsum\n",
    "# g stands for the number of groups\n",
    "# h stands for the hidden dim\n",
    "# n and s are equal and stands for sequence length\n",
    " \n",
    "scores = einsum(query, key, \"b g h n d, b h s d -> b h n s\")\n",
    "print(scores.shape) # torch.Size([1, 2, 256, 256])"
   ]
  },
  {
   "cell_type": "code",
   "execution_count": 11,
   "metadata": {},
   "outputs": [
    {
     "name": "stdout",
     "output_type": "stream",
     "text": [
      "torch.Size([1, 256, 2, 64])\n"
     ]
    }
   ],
   "source": [
    "import torch.nn.functional as F\n",
    "\n",
    "scale = query.size(-1) ** 0.5\n",
    "attention = F.softmax(scores / scale, dim=-1)\n",
    "\n",
    "# here we do just a standard matrix multiplication\n",
    "out = einsum(attention, value, \"b h n s, b h s d -> b h n d\")\n",
    "\n",
    "# finally, just reshape back to the (batch_size, seq_len, num_kv_heads, hidden_dim)\n",
    "out = rearrange(out, \"b h n d -> b n h d\")\n",
    "print(out.shape) # torch.Size([1, 256, 2, 64])"
   ]
  }
 ],
 "metadata": {
  "kernelspec": {
   "display_name": "base",
   "language": "python",
   "name": "python3"
  },
  "language_info": {
   "codemirror_mode": {
    "name": "ipython",
    "version": 3
   },
   "file_extension": ".py",
   "mimetype": "text/x-python",
   "name": "python",
   "nbconvert_exporter": "python",
   "pygments_lexer": "ipython3",
   "version": "3.11.5"
  }
 },
 "nbformat": 4,
 "nbformat_minor": 2
}
