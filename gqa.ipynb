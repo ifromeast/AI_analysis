{
 "cells": [
  {
   "cell_type": "markdown",
   "metadata": {},
   "source": [
    "## MHA attention 操作"
   ]
  },
  {
   "cell_type": "code",
   "execution_count": 2,
   "metadata": {},
   "outputs": [
    {
     "name": "stdout",
     "output_type": "stream",
     "text": [
      "torch.Size([1, 256, 8, 64])\n"
     ]
    }
   ],
   "source": [
    "import torch\n",
    "from torch.nn.functional import scaled_dot_product_attention\n",
    "\n",
    "# shapes: (batch_size, seq_len, num_heads, head_dim)\n",
    "query = torch.randn(1, 256, 8, 64)\n",
    "key = torch.randn(1, 256, 8, 64)\n",
    "value = torch.randn(1, 256, 8, 64)\n",
    "\n",
    "output = scaled_dot_product_attention(query, key, value)\n",
    "print(output.shape) # torch.Size([1, 256, 8, 64])"
   ]
  },
  {
   "cell_type": "markdown",
   "metadata": {},
   "source": [
    "## 逐步拆解 GQA"
   ]
  },
  {
   "cell_type": "code",
   "execution_count": 7,
   "metadata": {},
   "outputs": [
    {
     "name": "stdout",
     "output_type": "stream",
     "text": [
      "4\n"
     ]
    }
   ],
   "source": [
    "import torch\n",
    "\n",
    "# shapes: (batch_size, seq_len, num_heads, head_dim)\n",
    "query = torch.randn(1, 256, 8, 64)\n",
    "key = torch.randn(1, 256, 2, 64)\n",
    "value = torch.randn(1, 256, 2, 64)\n",
    "\n",
    "num_head_groups = query.shape[2] // key.shape[2]\n",
    "print(num_head_groups) # each group is of size 4 since there are 2 kv_heads"
   ]
  },
  {
   "cell_type": "code",
   "execution_count": 8,
   "metadata": {},
   "outputs": [
    {
     "name": "stdout",
     "output_type": "stream",
     "text": [
      "torch.Size([1, 4, 2, 256, 64])\n"
     ]
    }
   ],
   "source": [
    "from einops import rearrange\n",
    "\n",
    "query = rearrange(query, \"b n h d -> b h n d\")  # [1, 8, 256, 64]\n",
    "key = rearrange(key, \"b s h d -> b h s d\")      # [1, 2, 256, 64]\n",
    "value = rearrange(value, \"b s h d -> b h s d\")  # [1, 2, 256, 64]\n",
    "\n",
    "query = rearrange(query, \"b (h g) n d -> b g h n d\", g=num_head_groups)  # [1, 4, 2, 256, 64]\n",
    "print(query.shape)"
   ]
  },
  {
   "cell_type": "markdown",
   "metadata": {},
   "source": [
    "这一步比较关键，实际上进行了 2 步操作：\n",
    "1. 矩阵乘法 (1, 4, 2, 256, 64) @ (1, 2, 256, 64) --> (1,4,2,256,256)\n",
    "2. 沿着 g 的维度进行求和操作，最终得到 (1,2,256,256)"
   ]
  },
  {
   "cell_type": "code",
   "execution_count": 9,
   "metadata": {},
   "outputs": [
    {
     "name": "stdout",
     "output_type": "stream",
     "text": [
      "torch.Size([1, 2, 256, 256])\n"
     ]
    }
   ],
   "source": [
    "from einops import einsum\n",
    "# g stands for the number of groups\n",
    "# h stands for the hidden dim\n",
    "# n and s are equal and stands for sequence length\n",
    " \n",
    "scores = einsum(query, key, \"b g h n d, b h s d -> b h n s\")\n",
    "print(scores.shape) # torch.Size([1, 2, 256, 256])"
   ]
  },
  {
   "cell_type": "code",
   "execution_count": 11,
   "metadata": {},
   "outputs": [
    {
     "name": "stdout",
     "output_type": "stream",
     "text": [
      "torch.Size([1, 256, 2, 64])\n"
     ]
    }
   ],
   "source": [
    "import torch.nn.functional as F\n",
    "\n",
    "scale = query.size(-1) ** 0.5\n",
    "attention = F.softmax(scores / scale, dim=-1)\n",
    "\n",
    "# here we do just a standard matrix multiplication\n",
    "out = einsum(attention, value, \"b h n s, b h s d -> b h n d\")\n",
    "\n",
    "# finally, just reshape back to the (batch_size, seq_len, num_kv_heads, hidden_dim)\n",
    "out = rearrange(out, \"b h n d -> b n h d\")\n",
    "print(out.shape) # torch.Size([1, 256, 2, 64])"
   ]
  },
  {
   "cell_type": "markdown",
   "metadata": {},
   "source": [
    "接下来手动实现一个 GQA 类"
   ]
  },
  {
   "cell_type": "code",
   "execution_count": 10,
   "metadata": {},
   "outputs": [],
   "source": [
    "import torch\n",
    "import torch.nn as nn\n",
    "import torch.nn.functional as F\n",
    "import math\n",
    "\n",
    "\n",
    "class GQA(nn.Module):\n",
    "    def __init__(self, dim, num_heads, num_groups=None):\n",
    "        super(GQA, self).__init__()\n",
    "        assert dim % num_heads == 0, \"dim must be divisible by num_heads\"\n",
    "        self.num_heads = num_heads\n",
    "        self.head_dim = dim // num_heads\n",
    "        self.num_groups = num_groups if num_groups else num_heads\n",
    "\n",
    "        assert self.num_heads % self.num_groups == 0, \"num_heads must be divisible by num_groups\"\n",
    "        self.w_query = nn.Linear(dim, dim)\n",
    "        self.w_key = nn.Linear(dim, self.num_groups * self.head_dim)\n",
    "        self.w_value = nn.Linear(dim, self.num_groups * self.head_dim)\n",
    "        self.o_proj = nn.Linear(dim, dim)\n",
    "\n",
    "    def forward(self, query, key, value):\n",
    "        # query, key, value: (batch_size, seq_len, dim)\n",
    "        batch_size, seq_len, _ = query.shape\n",
    "\n",
    "        # (batch_size, seq_len, num_heads, head_dim)\n",
    "        query = self.w_query(query).view(batch_size, seq_len, self.num_heads, self.head_dim).permute(0, 2, 1, 3) # (batch_size, num_heads, seq_len, head_dim)\n",
    "\n",
    "        # (batch_size, seq_len, num_groups, head_dim)\n",
    "        key = self.w_key(key).view(batch_size, seq_len, self.num_groups, self.head_dim).permute(0, 2, 1, 3) # (batch_size, num_groups, seq_len, head_dim)\n",
    "        value = self.w_value(value).view(batch_size, seq_len, self.num_groups, self.head_dim).permute(0, 2, 1, 3) # (batch_size, num_groups, seq_len, head_dim)\n",
    "\n",
    "        expand_ratio = self.num_heads // self.num_groups\n",
    "        key = key.unsqueeze(2).expand(-1, -1, expand_ratio, -1, -1).reshape(batch_size, self.num_heads, seq_len, self.head_dim) # (batch_size, num_heads, seq_len, head_dim)\n",
    "        value = value.unsqueeze(2).expand(-1, -1, expand_ratio, -1, -1).reshape(batch_size, self.num_heads, seq_len, self.head_dim) # (batch_size, num_heads, seq_len, head_dim)\n",
    "\n",
    "        scores = torch.matmul(query, key.transpose(-2, -1))/math.sqrt(self.head_dim) # (batch_size, num_heads, seq_len, seq_len)\n",
    "\n",
    "        mask = torch.triu(torch.ones(seq_len, seq_len), diagonal=1).to(query.device) # upper triangular mask\n",
    "        scores = scores.masked_fill(mask == 1, float('-inf'))\n",
    "        attn = F.softmax(scores, dim=-1) # (batch_size, num_heads, seq_len, seq_len)\n",
    "        attn = F.dropout(attn, p=0.1, training=self.training) # dropout\n",
    "        attn_out = torch.matmul(attn, value) # (batch_size, num_heads, seq_len, head_dim)\n",
    "        attn_out = attn_out.permute(0, 2, 1, 3).reshape(batch_size, seq_len, self.num_heads * self.head_dim) # (batch_size, seq_len, dim)\n",
    "        out = self.o_proj(attn_out)\n",
    "\n",
    "        return out\n"
   ]
  },
  {
   "cell_type": "code",
   "execution_count": 11,
   "metadata": {},
   "outputs": [
    {
     "name": "stdout",
     "output_type": "stream",
     "text": [
      "torch.Size([4, 32, 512])\n"
     ]
    }
   ],
   "source": [
    "# Example usage\n",
    "embed_dim = 512\n",
    "num_heads = 8\n",
    "num_groups = 2 \n",
    "\n",
    "gqa = GQA(embed_dim, num_heads, num_groups).eval()\n",
    "\n",
    "batch_size = 4\n",
    "seq_len = 32\n",
    "query = torch.randn(batch_size, seq_len, embed_dim)\n",
    "key = torch.randn(batch_size, seq_len, embed_dim)\n",
    "value = torch.randn(batch_size, seq_len, embed_dim)\n",
    "\n",
    "output = gqa(query, key, value)\n",
    "print(output.shape)  # Should be (batch_size, seq_len, embed_dim)\n"
   ]
  },
  {
   "cell_type": "code",
   "execution_count": 12,
   "metadata": {},
   "outputs": [
    {
     "name": "stdout",
     "output_type": "stream",
     "text": [
      "tensor([[0., 1., 1., 1.],\n",
      "        [0., 0., 1., 1.],\n",
      "        [0., 0., 0., 1.],\n",
      "        [0., 0., 0., 0.]])\n",
      "tensor([[0., 0., 0.]])\n"
     ]
    }
   ],
   "source": [
    "import torch\n",
    "seq_len = 4\n",
    "mask = torch.triu(torch.ones(seq_len, seq_len), diagonal=1)\n",
    "print(mask) # upper triangular mask\n",
    "\n",
    "cache_len = 2\n",
    "mask_w_cache = torch.triu(torch.ones(1, 1 + cache_len), diagonal=1 + cache_len)\n",
    "print(mask_w_cache) # upper triangular mask with cache length"
   ]
  },
  {
   "cell_type": "code",
   "execution_count": null,
   "metadata": {},
   "outputs": [],
   "source": [
    "import torch\n",
    "import torch.nn as nn\n",
    "import torch.nn.functional as F\n",
    "import math\n",
    "\n",
    "\n",
    "class GQA_W_KVcache(nn.Module):\n",
    "    def __init__(self, dim, num_heads, num_groups=None):\n",
    "        super(GQA, self).__init__()\n",
    "        assert dim % num_heads == 0, \"dim must be divisible by num_heads\"\n",
    "        self.num_heads = num_heads\n",
    "        self.head_dim = dim // num_heads\n",
    "        self.num_groups = num_groups if num_groups else num_heads\n",
    "\n",
    "        assert self.num_heads % self.num_groups == 0, \"num_heads must be divisible by num_groups\"\n",
    "        self.w_query = nn.Linear(dim, dim)\n",
    "        self.w_key = nn.Linear(dim, self.num_groups * self.head_dim)\n",
    "        self.w_value = nn.Linear(dim, self.num_groups * self.head_dim)\n",
    "        self.o_proj = nn.Linear(dim, dim)\n",
    "\n",
    "        self.k_cache = None\n",
    "        self.v_cache = None\n",
    "        self.use_cache = False\n",
    "\n",
    "    def forward(self, query, key, value):\n",
    "        # query, key, value: (batch_size, seq_len, dim)\n",
    "        batch_size, seq_len, _ = query.shape\n",
    "\n",
    "        # (batch_size, seq_len, num_heads, head_dim)\n",
    "        query = self.w_query(query).view(batch_size, seq_len, self.num_heads, self.head_dim).permute(0, 2, 1, 3) # (batch_size, num_heads, seq_len, head_dim)\n",
    "\n",
    "        # (batch_size, seq_len, num_groups, head_dim)\n",
    "        key = self.w_key(key).view(batch_size, seq_len, self.num_groups, self.head_dim)\n",
    "        value = self.w_value(value).view(batch_size, seq_len, self.num_groups, self.head_dim)\n",
    "\n",
    "        if self.use_cache:\n",
    "            if self.k_cache is None:\n",
    "                self.k_cache = key\n",
    "                self.v_cache = value\n",
    "            else:\n",
    "                key = torch.cat([self.k_cache, key], dim=1)\n",
    "                value = torch.cat([self.v_cache, value], dim=1)\n",
    "\n",
    "        key = key.permute(0, 2, 1, 3) # (batch_size, num_groups, seq_len, head_dim)\n",
    "        value = value.permute(0, 2, 1, 3) # (batch_size, num_groups, seq_len, head_dim)\n",
    "\n",
    "        expand_ratio = self.num_heads // self.num_groups\n",
    "        key = key.unsqueeze(2).expand(-1, -1, expand_ratio, -1, -1).reshape(batch_size, self.num_heads, -1, self.head_dim) # (batch_size, num_heads, seq_len, head_dim)\n",
    "        value = value.unsqueeze(2).expand(-1, -1, expand_ratio, -1, -1).reshape(batch_size, self.num_heads, -1, self.head_dim) # (batch_size, num_heads, seq_len, head_dim)\n",
    "\n",
    "        scores = torch.matmul(query, key.transpose(-2, -1))/math.sqrt(self.head_dim) # (batch_size, num_heads, seq_len, seq_len)\n",
    "\n",
    "        if seq_len > 1:\n",
    "            # Create a mask for the upper triangular part of the attention scores\n",
    "            mask = torch.triu(torch.ones(seq_len, seq_len), diagonal=1).to(query.device) # upper triangular mask\n",
    "            scores = scores.masked_fill(mask == 1, float('-inf'))\n",
    "        attn = F.softmax(scores, dim=-1) # (batch_size, num_heads, seq_len, seq_len)\n",
    "        attn = F.dropout(attn, p=0.1, training=self.training) # dropout\n",
    "        attn_out = torch.matmul(attn, value) # (batch_size, num_heads, seq_len, head_dim)\n",
    "        attn_out = attn_out.permute(0, 2, 1, 3).reshape(batch_size, seq_len, self.num_heads * self.head_dim) # (batch_size, seq_len, dim)\n",
    "        out = self.o_proj(attn_out)\n",
    "\n",
    "        return out\n"
   ]
  }
 ],
 "metadata": {
  "kernelspec": {
   "display_name": "rl-env",
   "language": "python",
   "name": "python3"
  },
  "language_info": {
   "codemirror_mode": {
    "name": "ipython",
    "version": 3
   },
   "file_extension": ".py",
   "mimetype": "text/x-python",
   "name": "python",
   "nbconvert_exporter": "python",
   "pygments_lexer": "ipython3",
   "version": "3.10.16"
  }
 },
 "nbformat": 4,
 "nbformat_minor": 2
}
