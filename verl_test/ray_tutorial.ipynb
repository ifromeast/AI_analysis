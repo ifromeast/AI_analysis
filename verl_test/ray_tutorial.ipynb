{
 "cells": [
  {
   "cell_type": "code",
   "execution_count": null,
   "id": "cc970269",
   "metadata": {},
   "outputs": [
    {
     "name": "stderr",
     "output_type": "stream",
     "text": [
      "2025-04-29 07:47:34,768\tINFO worker.py:1832 -- Started a local Ray instance. View the dashboard at \u001b[1m\u001b[32m127.0.0.1:8265 \u001b[39m\u001b[22m\n",
      "2025-04-29 07:47:35,134\tINFO packaging.py:575 -- Creating a file package for local module '/data2/zzd/rl_llm/verl'.\n",
      "2025-04-29 07:47:35,565\tINFO packaging.py:367 -- Pushing file package 'gcs://_ray_pkg_8c5fcbfc40086328.zip' (13.71MiB) to Ray cluster...\n",
      "2025-04-29 07:47:35,637\tINFO packaging.py:380 -- Successfully pushed file package 'gcs://_ray_pkg_8c5fcbfc40086328.zip'.\n"
     ]
    },
    {
     "data": {
      "application/vnd.jupyter.widget-view+json": {
       "model_id": "3831ff3126a84bc6912f16311a5f23b4",
       "version_major": 2,
       "version_minor": 0
      },
      "text/html": [
       "<div class=\"lm-Widget p-Widget lm-Panel p-Panel jp-Cell-outputWrapper\">\n",
       "    <div style=\"margin-left: 50px;display: flex;flex-direction: row;align-items: center\">\n",
       "        <div class=\"jp-RenderedHTMLCommon\" style=\"display: flex; flex-direction: row;\">\n",
       "  <svg viewBox=\"0 0 567 224\" fill=\"none\" xmlns=\"http://www.w3.org/2000/svg\" style=\"height: 3em;\">\n",
       "    <g clip-path=\"url(#clip0_4338_178347)\">\n",
       "        <path d=\"M341.29 165.561H355.29L330.13 129.051C345.63 123.991 354.21 112.051 354.21 94.2307C354.21 71.3707 338.72 58.1807 311.88 58.1807H271V165.561H283.27V131.661H311.8C314.25 131.661 316.71 131.501 319.01 131.351L341.25 165.561H341.29ZM283.29 119.851V70.0007H311.82C331.3 70.0007 342.34 78.2907 342.34 94.5507C342.34 111.271 331.34 119.861 311.82 119.861L283.29 119.851ZM451.4 138.411L463.4 165.561H476.74L428.74 58.1807H416L367.83 165.561H380.83L392.83 138.411H451.4ZM446.19 126.601H398L422 72.1407L446.24 126.601H446.19ZM526.11 128.741L566.91 58.1807H554.35L519.99 114.181L485.17 58.1807H472.44L514.01 129.181V165.541H526.13V128.741H526.11Z\" fill=\"var(--jp-ui-font-color0)\"/>\n",
       "        <path d=\"M82.35 104.44C84.0187 97.8827 87.8248 92.0678 93.1671 87.9146C98.5094 83.7614 105.083 81.5067 111.85 81.5067C118.617 81.5067 125.191 83.7614 130.533 87.9146C135.875 92.0678 139.681 97.8827 141.35 104.44H163.75C164.476 101.562 165.622 98.8057 167.15 96.2605L127.45 56.5605C121.071 60.3522 113.526 61.6823 106.235 60.3005C98.9443 58.9187 92.4094 54.9203 87.8602 49.0574C83.3109 43.1946 81.0609 35.8714 81.5332 28.4656C82.0056 21.0599 85.1679 14.0819 90.4252 8.8446C95.6824 3.60726 102.672 0.471508 110.08 0.0272655C117.487 -0.416977 124.802 1.86091 130.647 6.4324C136.493 11.0039 140.467 17.5539 141.821 24.8501C143.175 32.1463 141.816 39.6859 138 46.0505L177.69 85.7505C182.31 82.9877 187.58 81.4995 192.962 81.4375C198.345 81.3755 203.648 82.742 208.33 85.3976C213.012 88.0532 216.907 91.9029 219.616 96.5544C222.326 101.206 223.753 106.492 223.753 111.875C223.753 117.258 222.326 122.545 219.616 127.197C216.907 131.848 213.012 135.698 208.33 138.353C203.648 141.009 198.345 142.375 192.962 142.313C187.58 142.251 182.31 140.763 177.69 138L138 177.7C141.808 184.071 143.155 191.614 141.79 198.91C140.424 206.205 136.44 212.75 130.585 217.313C124.731 221.875 117.412 224.141 110.004 223.683C102.596 223.226 95.6103 220.077 90.3621 214.828C85.1139 209.58 81.9647 202.595 81.5072 195.187C81.0497 187.779 83.3154 180.459 87.878 174.605C92.4405 168.751 98.9853 164.766 106.281 163.401C113.576 162.035 121.119 163.383 127.49 167.19L167.19 127.49C165.664 124.941 164.518 122.182 163.79 119.3H141.39C139.721 125.858 135.915 131.673 130.573 135.826C125.231 139.98 118.657 142.234 111.89 142.234C105.123 142.234 98.5494 139.98 93.2071 135.826C87.8648 131.673 84.0587 125.858 82.39 119.3H60C58.1878 126.495 53.8086 132.78 47.6863 136.971C41.5641 141.163 34.1211 142.972 26.7579 142.059C19.3947 141.146 12.6191 137.574 7.70605 132.014C2.79302 126.454 0.0813599 119.29 0.0813599 111.87C0.0813599 104.451 2.79302 97.2871 7.70605 91.7272C12.6191 86.1673 19.3947 82.5947 26.7579 81.6817C34.1211 80.7686 41.5641 82.5781 47.6863 86.7696C53.8086 90.9611 58.1878 97.2456 60 104.44H82.35ZM100.86 204.32C103.407 206.868 106.759 208.453 110.345 208.806C113.93 209.159 117.527 208.258 120.522 206.256C123.517 204.254 125.725 201.276 126.771 197.828C127.816 194.38 127.633 190.677 126.253 187.349C124.874 184.021 122.383 181.274 119.205 179.577C116.027 177.88 112.359 177.337 108.826 178.042C105.293 178.746 102.113 180.654 99.8291 183.44C97.5451 186.226 96.2979 189.718 96.3 193.32C96.2985 195.364 96.7006 197.388 97.4831 199.275C98.2656 201.163 99.4132 202.877 100.86 204.32ZM204.32 122.88C206.868 120.333 208.453 116.981 208.806 113.396C209.159 109.811 208.258 106.214 206.256 103.219C204.254 100.223 201.275 98.0151 197.827 96.97C194.38 95.9249 190.676 96.1077 187.348 97.4873C184.02 98.8669 181.274 101.358 179.577 104.536C177.879 107.714 177.337 111.382 178.041 114.915C178.746 118.448 180.653 121.627 183.439 123.911C186.226 126.195 189.717 127.443 193.32 127.44C195.364 127.443 197.388 127.042 199.275 126.259C201.163 125.476 202.878 124.328 204.32 122.88ZM122.88 19.4205C120.333 16.8729 116.981 15.2876 113.395 14.9347C109.81 14.5817 106.213 15.483 103.218 17.4849C100.223 19.4868 98.0146 22.4654 96.9696 25.9131C95.9245 29.3608 96.1073 33.0642 97.4869 36.3922C98.8665 39.7202 101.358 42.4668 104.535 44.1639C107.713 45.861 111.381 46.4036 114.914 45.6992C118.447 44.9949 121.627 43.0871 123.911 40.301C126.195 37.515 127.442 34.0231 127.44 30.4205C127.44 28.3772 127.038 26.3539 126.255 24.4664C125.473 22.5788 124.326 20.8642 122.88 19.4205ZM19.42 100.86C16.8725 103.408 15.2872 106.76 14.9342 110.345C14.5813 113.93 15.4826 117.527 17.4844 120.522C19.4863 123.518 22.4649 125.726 25.9127 126.771C29.3604 127.816 33.0638 127.633 36.3918 126.254C39.7198 124.874 42.4664 122.383 44.1635 119.205C45.8606 116.027 46.4032 112.359 45.6988 108.826C44.9944 105.293 43.0866 102.114 40.3006 99.8296C37.5145 97.5455 34.0227 96.2983 30.42 96.3005C26.2938 96.3018 22.337 97.9421 19.42 100.86ZM100.86 100.86C98.3125 103.408 96.7272 106.76 96.3742 110.345C96.0213 113.93 96.9226 117.527 98.9244 120.522C100.926 123.518 103.905 125.726 107.353 126.771C110.8 127.816 114.504 127.633 117.832 126.254C121.16 124.874 123.906 122.383 125.604 119.205C127.301 116.027 127.843 112.359 127.139 108.826C126.434 105.293 124.527 102.114 121.741 99.8296C118.955 97.5455 115.463 96.2983 111.86 96.3005C109.817 96.299 107.793 96.701 105.905 97.4835C104.018 98.2661 102.303 99.4136 100.86 100.86Z\" fill=\"#00AEEF\"/>\n",
       "    </g>\n",
       "    <defs>\n",
       "        <clipPath id=\"clip0_4338_178347\">\n",
       "            <rect width=\"566.93\" height=\"223.75\" fill=\"white\"/>\n",
       "        </clipPath>\n",
       "    </defs>\n",
       "  </svg>\n",
       "</div>\n",
       "\n",
       "        <table class=\"jp-RenderedHTMLCommon\" style=\"border-collapse: collapse;color: var(--jp-ui-font-color1);font-size: var(--jp-ui-font-size1);\">\n",
       "    <tr>\n",
       "        <td style=\"text-align: left\"><b>Python version:</b></td>\n",
       "        <td style=\"text-align: left\"><b>3.10.16</b></td>\n",
       "    </tr>\n",
       "    <tr>\n",
       "        <td style=\"text-align: left\"><b>Ray version:</b></td>\n",
       "        <td style=\"text-align: left\"><b>2.43.0</b></td>\n",
       "    </tr>\n",
       "    <tr>\n",
       "    <td style=\"text-align: left\"><b>Dashboard:</b></td>\n",
       "    <td style=\"text-align: left\"><b><a href=\"http://127.0.0.1:8265\" target=\"_blank\">http://127.0.0.1:8265</a></b></td>\n",
       "</tr>\n",
       "\n",
       "</table>\n",
       "\n",
       "    </div>\n",
       "</div>\n"
      ],
      "text/plain": [
       "RayContext(dashboard_url='127.0.0.1:8265', python_version='3.10.16', ray_version='2.43.0', ray_commit='ecdcdc6a6e63dc4bcd6ea16aae256ce4d32a7e2c')"
      ]
     },
     "execution_count": 1,
     "metadata": {},
     "output_type": "execute_result"
    },
    {
     "name": "stdout",
     "output_type": "stream",
     "text": [
      "\u001b[36m(GPUAccumulator pid=2179640)\u001b[0m rank 0, value: tensor([1.], device='cuda:0')\n",
      "\u001b[36m(GPUAccumulator pid=2179952)\u001b[0m rank 2, value: tensor([3.], device='cuda:0')\n",
      "\u001b[36m(GPUAccumulator pid=2208868)\u001b[0m rank 0, value: tensor([2.], device='cuda:0')\n",
      "\u001b[36m(GPUAccumulator pid=2209046)\u001b[0m rank 0, value: tensor([3.], device='cuda:0')\u001b[32m [repeated 4x across cluster]\u001b[0m\n",
      "\u001b[36m(GPUAccumulator pid=2209609)\u001b[0m rank 2, value: tensor([5.], device='cuda:0')\n",
      "\u001b[36m(GPUAccumulatorDecorator pid=2222385)\u001b[0m 10\n",
      "\u001b[36m(GPUAccumulatorDecorator pid=2222615)\u001b[0m 10\n",
      "\u001b[36m(GPUAccumulatorDecorator pid=2222616)\u001b[0m 10\n",
      "\u001b[36m(GPUAccumulatorDecorator pid=2222617)\u001b[0m 10\n",
      "\u001b[36m(GPUAccumulatorDecorator pid=2222619)\u001b[0m 10\n",
      "\u001b[36m(GPUAccumulatorDecorator pid=2222620)\u001b[0m 10\n",
      "\u001b[36m(GPUAccumulatorDecorator pid=2222622)\u001b[0m 10\n",
      "\u001b[36m(GPUAccumulatorDecorator pid=2222623)\u001b[0m 10\n",
      "\u001b[36m(GPUAccumulatorDecorator pid=2222385)\u001b[0m rank 0, value: tensor([10.], device='cuda:0')\n",
      "\u001b[36m(GPUAccumulatorDecorator pid=2226747)\u001b[0m 10\n",
      "\u001b[36m(GPUAccumulatorDecorator pid=2226747)\u001b[0m rank 0, value: tensor([10.], device='cuda:0')\n",
      "\u001b[36m(GPUAccumulatorDecorator pid=2227002)\u001b[0m 10\n",
      "\u001b[36m(GPUAccumulatorDecorator pid=2227001)\u001b[0m 10\n",
      "\u001b[36m(GPUAccumulatorDecorator pid=2227000)\u001b[0m 10\n",
      "\u001b[36m(GPUAccumulatorDecorator pid=2227004)\u001b[0m 10\n",
      "\u001b[36m(GPUAccumulatorDecorator pid=2226997)\u001b[0m 10\n",
      "\u001b[36m(GPUAccumulatorDecorator pid=2226998)\u001b[0m 10\n",
      "\u001b[36m(GPUAccumulatorDecorator pid=2226996)\u001b[0m 10\n",
      "\u001b[36m(GPUAccumulatorDecorator pid=2226996)\u001b[0m rank 1, value: tensor([11.], device='cuda:0')\n"
     ]
    }
   ],
   "source": [
    "import warnings\n",
    "warnings.filterwarnings(\"ignore\")\n",
    "import ray\n",
    "import torch\n",
    "ray.init(\n",
    "        runtime_env={\n",
    "        \"working_dir\": \"/data2/zzd/rl_llm/verl\",  # 工作目录（会上传到集群）\n",
    "    }\n",
    ")"
   ]
  },
  {
   "cell_type": "code",
   "execution_count": 2,
   "id": "37341628",
   "metadata": {},
   "outputs": [],
   "source": [
    "@ray.remote\n",
    "class Accumulator:\n",
    "    def __init__(self):\n",
    "        self.value = 0\n",
    "\n",
    "    def add(self, x):\n",
    "        self.value += x\n",
    "\n",
    "    def get_value(self):\n",
    "        return self.value\n",
    "    \n",
    "# Instantiate an accumulator. Accumulator can be viewed as a process, acting as an RPC service.\n",
    "accumulator = Accumulator.remote()"
   ]
  },
  {
   "cell_type": "code",
   "execution_count": 3,
   "id": "ef899028",
   "metadata": {},
   "outputs": [
    {
     "name": "stdout",
     "output_type": "stream",
     "text": [
      "0\n"
     ]
    }
   ],
   "source": [
    "value_ref = accumulator.get_value.remote()  # Check the current value. Note that this function returns immediately and does not actually wait for the remote execution to complete.\n",
    "# Get the value\n",
    "value = ray.get(value_ref)\n",
    "print(value)"
   ]
  },
  {
   "cell_type": "code",
   "execution_count": 4,
   "id": "08b9e1a5",
   "metadata": {},
   "outputs": [
    {
     "name": "stdout",
     "output_type": "stream",
     "text": [
      "10\n"
     ]
    }
   ],
   "source": [
    "# Accumulate, then check the result.\n",
    "accumulator.add.remote(10)  # Similarly, the 'add' here will return immediately.\n",
    "new_value = ray.get(accumulator.get_value.remote())\n",
    "print(new_value)"
   ]
  },
  {
   "cell_type": "markdown",
   "id": "791871e0",
   "metadata": {},
   "source": [
    "上文的例子是单进程的，在下边的例子里，首先实现一个使用 GPU 的 Worker 类，然后使用 Ray 创建一个 WorkerGroup，并启动多个 Worker 进程，每个进程都使用一个 GPU。"
   ]
  },
  {
   "cell_type": "code",
   "execution_count": 5,
   "id": "2ff7296c",
   "metadata": {},
   "outputs": [],
   "source": [
    "import sys\n",
    "sys.path.append(\"/data2/zzd/rl_llm/verl\")\n",
    "\n",
    "from verl.single_controller.base import Worker\n",
    "from verl.single_controller.ray.base import RayClassWithInitArgs, RayResourcePool, RayWorkerGroup, merge_resource_pool"
   ]
  },
  {
   "cell_type": "code",
   "execution_count": 6,
   "id": "03c033d6",
   "metadata": {},
   "outputs": [],
   "source": [
    "@ray.remote\n",
    "class GPUAccumulator(Worker):\n",
    "    def __init__(self) -> None:\n",
    "        super().__init__()\n",
    "        # The initial value of each rank is the same as the rank\n",
    "        self.value = torch.zeros(size=(1,), device=\"cuda\") + self.rank\n",
    "\n",
    "    def add(self, x):\n",
    "        self.value += x\n",
    "        print(f\"rank {self.rank}, value: {self.value}\")\n",
    "        return self.value.cpu()"
   ]
  },
  {
   "cell_type": "markdown",
   "id": "63bc00b6",
   "metadata": {},
   "source": [
    "初始化 RayWorkerGroup 并在给定的资源池中执行分布式计算\n",
    "\n",
    "参数传递原理：输入参数是一个长度为 world_size 的列表，列表中的每个元素分别分配给 RayWorkerGroup 中的每个 worker。返回参数也是一个列表，对应于每个 worker 的返回值。"
   ]
  },
  {
   "cell_type": "code",
   "execution_count": 7,
   "id": "4eaded94",
   "metadata": {},
   "outputs": [
    {
     "name": "stderr",
     "output_type": "stream",
     "text": [
      "WARNING:2025-04-29 07:47:40,800:Waiting for register center actor TB0KhK_register_center to be ready. Elapsed time: 0 seconds out of 300 seconds.\n"
     ]
    },
    {
     "name": "stdout",
     "output_type": "stream",
     "text": [
      "[tensor([1.]), tensor([2.]), tensor([3.]), tensor([4.])]\n"
     ]
    }
   ],
   "source": [
    "resource_pool = RayResourcePool([4], use_gpu=True)\n",
    "\n",
    "# Each worker's initial value is its rank, and then each rank's value is incremented by 1, so the values obtained on each rank are [1, 2, 3, 4]\n",
    "class_with_args = RayClassWithInitArgs(cls=GPUAccumulator)\n",
    "worker_group = RayWorkerGroup(resource_pool, class_with_args)\n",
    "print(worker_group.execute_all_sync(\"add\", x=[1, 1, 1, 1]))\n"
   ]
  },
  {
   "cell_type": "code",
   "execution_count": 11,
   "id": "a4197c0d",
   "metadata": {},
   "outputs": [
    {
     "name": "stdout",
     "output_type": "stream",
     "text": [
      "[0, 1, 2, 3]\n",
      "[4, 4, 4, 4]\n"
     ]
    }
   ],
   "source": [
    "print(resource_pool.local_rank_list())\n",
    "print(resource_pool.local_world_size_list())"
   ]
  },
  {
   "cell_type": "code",
   "execution_count": 13,
   "id": "b5507a09",
   "metadata": {},
   "outputs": [
    {
     "name": "stdout",
     "output_type": "stream",
     "text": [
      "[Actor(GPUAccumulator, 0df4b19eab489dacf1bcf96b01000000), Actor(GPUAccumulator, 82effa1deec127d7d4b0294601000000), Actor(GPUAccumulator, 6fd2a5355d97ce6cf0216de901000000), Actor(GPUAccumulator, e26494bdc64670b38035d10b01000000)]\n",
      "['TB0KhKGPUAccumulator_0:0', 'TB0KhKGPUAccumulator_0:1', 'TB0KhKGPUAccumulator_0:2', 'TB0KhKGPUAccumulator_0:3']\n"
     ]
    }
   ],
   "source": [
    "print(worker_group.workers)\n",
    "print(worker_group.worker_names)\n",
    "# worker_group.worker_names"
   ]
  },
  {
   "cell_type": "markdown",
   "id": "a9ec4bf0",
   "metadata": {},
   "source": [
    "GPU 资源共享\n",
    "\n",
    "映射到同一资源池的 RayWorkerGroups 共享 GPU。在下边例子中，我们另起一个占用 4 个 GPU的资源池，并与前文资源池合并，最后得到一个占用所有 8 个 GPU的资源池。"
   ]
  },
  {
   "cell_type": "code",
   "execution_count": null,
   "id": "2a575b5b",
   "metadata": {},
   "outputs": [
    {
     "name": "stdout",
     "output_type": "stream",
     "text": [
      "[0, 1, 2, 3]\n",
      "[0, 1, 2, 3, 0, 1, 2, 3]\n"
     ]
    }
   ],
   "source": [
    "# Create a new resource pool and then merge the newly created resource pool with the previous one.\n",
    "resource_pool_new = RayResourcePool([4], use_gpu=True, name_prefix=\"a\")\n",
    "resource_pool_merge = merge_resource_pool(resource_pool, resource_pool_new)\n",
    "print(resource_pool_new.local_rank_list())\n",
    "print(resource_pool_merge.local_rank_list())\n"
   ]
  },
  {
   "cell_type": "code",
   "execution_count": 15,
   "id": "8f0ea107",
   "metadata": {},
   "outputs": [
    {
     "name": "stderr",
     "output_type": "stream",
     "text": [
      "WARNING:2025-04-29 08:11:31,445:Waiting for register center actor eIXQlV_register_center to be ready. Elapsed time: 0 seconds out of 300 seconds.\n",
      "WARNING:2025-04-29 08:11:36,247:Waiting for register center actor nROQMA_register_center to be ready. Elapsed time: 0 seconds out of 300 seconds.\n"
     ]
    }
   ],
   "source": [
    "# Establish a RayWorkerGroup on the newly created resource pool.\n",
    "worker_group_new = RayWorkerGroup(resource_pool_new, class_with_args)\n",
    "worker_group_merge = RayWorkerGroup(resource_pool_merge, class_with_args)"
   ]
  },
  {
   "cell_type": "code",
   "execution_count": 16,
   "id": "1e05d0ce",
   "metadata": {},
   "outputs": [
    {
     "name": "stdout",
     "output_type": "stream",
     "text": [
      "[tensor([2.]), tensor([3.]), tensor([4.]), tensor([5.])]\n"
     ]
    }
   ],
   "source": [
    "# Run 'add' on the second set of 4 GPUs; the result should be [2, 3, 4, 5].\n",
    "output_new = worker_group_new.execute_all_sync(\"add\", x=[2, 2, 2, 2])\n",
    "print(output_new)"
   ]
  },
  {
   "cell_type": "code",
   "execution_count": 17,
   "id": "b61c876c",
   "metadata": {},
   "outputs": [
    {
     "name": "stdout",
     "output_type": "stream",
     "text": [
      "[tensor([3.]), tensor([4.]), tensor([5.]), tensor([6.]), tensor([7.]), tensor([8.]), tensor([9.]), tensor([10.])]\n"
     ]
    }
   ],
   "source": [
    "# Run 'add' on the merged set of 8 GPUs; the result should be [3, 4, 5, 6, 7, 8, 9, 10].\n",
    "output_merge = worker_group_merge.execute_all_sync(\"add\", x=[3, 3, 3, 3, 3, 3, 3, 3])\n",
    "print(output_merge)"
   ]
  },
  {
   "cell_type": "markdown",
   "id": "6527ddf6",
   "metadata": {},
   "source": [
    "数据分发(dispatch)、执行(execution)和收集(collection)\n",
    "\n",
    "在上述示例中，我们使用了 RayWorkerGroup 中的 execute_all_sync 函数来从驱动程序向每个工作器分发数据。这对编码来说非常不方便。在本章中，我们使用函数装饰器形式，允许 RayWorkerGroup 直接调用在 Worker 中编写的函数，从而大大简化参数传递。\n",
    "\n",
    "HybridFlow中的传输协议\n",
    "\n",
    "| 传输协议         | 分发功能 dispatch                                                | 收集功能 collection                                                    | 使用场景                                                                 |\n",
    "|------------------|--------------------------------------------------------------------------|--------------------------------------------------------------------------|--------------------------------------------------------------------------|\n",
    "| ONE_TO_ALL       | 将数据广播到所有节点。                                                   | 从所有节点收集数据。                                                     | 所有工作节点具有相同的输入并运行相同的代码，例如模型初始化。             |\n",
    "| 3D_PROTO         | 拆分数据，分散到所有数据并行（DP）节点，并在组内广播。                    | 从所有DP组中 \\( p=1 \\)、\\( t=0 \\) 的节点收集并拼接数据。                 | 模型在每个数据并行组内分片存储，输出仅存在于最后一个流水线阶段，并在数据并行组间复制。典型应用于Megatron-LM、Deepspeed等的3D并行训练场景。 |\n",
    "| 3D_ALL_MICRO_DP  | 按微DP大小拆分数据，分散到所有微DP组，并在组内广播。                      | 从所有微DP组中 local_rank=0 的节点收集并拼接数据。                       | 与HybridEngine配合使用，用于处理策略模型在训练和推理切换时的3D并行方案。  |\n",
    "| 3D_PP_ONLY       | 将数据广播到所有节点。                                                   | 从所有流水线并行（PP）组中 \\( t=0 \\)、\\( d=0 \\) 的节点收集并拼接数据。   | 用于检查权重名称（因为在张量并行（TP）和数据并行（DP）组中权重名称相同）。|\n",
    "| DP_PROTO         | 将数据按批次拆分并分散到所有数据并行（DP）节点。                          | 从所有DP节点收集并拼接数据。                                             | 数据并行模式下的模型训练。                                               |\n",
    "| ALL_TO_ALL       | 无操作。                                                                 | 从所有节点收集数据。                                                     | 调试时使用。用户可以手动定义每个工作节点的输入并分别检查其输出。         |\n"
   ]
  },
  {
   "cell_type": "code",
   "execution_count": 22,
   "id": "623bc75b",
   "metadata": {},
   "outputs": [],
   "source": [
    "from verl.single_controller.base.decorator import Dispatch, Execute, register\n",
    "\n",
    "@ray.remote\n",
    "class GPUAccumulatorDecorator(Worker):\n",
    "    def __init__(self) -> None:\n",
    "        super().__init__()\n",
    "        # The initial value of each rank is the same as the rank\n",
    "        self.value = torch.zeros(size=(1,), device=\"cuda\") + self.rank\n",
    "\n",
    "    # map from a single input to all the worker\n",
    "    @register(Dispatch.ONE_TO_ALL)\n",
    "    def add(self, x):\n",
    "        print(x)\n",
    "        self.value = self.value + x\n",
    "        print(f\"rank {self.rank}, value: {self.value}\")\n",
    "        return self.value.cpu()"
   ]
  },
  {
   "cell_type": "code",
   "execution_count": 23,
   "id": "8de30fe8",
   "metadata": {},
   "outputs": [
    {
     "name": "stderr",
     "output_type": "stream",
     "text": [
      "WARNING:2025-04-29 08:26:02,628:Waiting for register center actor uqdyqV_register_center to be ready. Elapsed time: 0 seconds out of 300 seconds.\n"
     ]
    }
   ],
   "source": [
    "class_with_args = RayClassWithInitArgs(cls=GPUAccumulatorDecorator)\n",
    "gpu_accumulator_decorator = RayWorkerGroup(resource_pool_merge, class_with_args)"
   ]
  },
  {
   "cell_type": "code",
   "execution_count": 24,
   "id": "a5617539",
   "metadata": {},
   "outputs": [
    {
     "name": "stdout",
     "output_type": "stream",
     "text": [
      "[tensor([10.]), tensor([11.]), tensor([12.]), tensor([13.]), tensor([14.]), tensor([15.]), tensor([16.]), tensor([17.])]\n"
     ]
    }
   ],
   "source": [
    "# As we can see, 10 is automatically dispatched to each Worker in this RayWorkerGroup.\n",
    "print(gpu_accumulator_decorator.add(x=10))"
   ]
  },
  {
   "cell_type": "markdown",
   "id": "ddb7fb00",
   "metadata": {},
   "source": [
    "用户还可以自定义 dispatch 和 collection 函数，只需要自己编写 dispatch_fn 和 collect_fn 函数。我们还支持仅在 rank_zero 上执行 RPC，下面提供了具体示例。"
   ]
  },
  {
   "cell_type": "code",
   "execution_count": 25,
   "id": "1e23f3cc",
   "metadata": {},
   "outputs": [],
   "source": [
    "from verl.single_controller.base.decorator import Dispatch, collect_all_to_all, register\n",
    "\n",
    "def two_to_all_dispatch_fn(worker_group, *args, **kwargs):\n",
    "    \"\"\"\n",
    "    Assume the input is a list of 2. Duplicate the input interleaved and pass to each worker.\n",
    "    \"\"\"\n",
    "    for arg in args:\n",
    "        assert len(arg) == 2\n",
    "        for i in range(worker_group.world_size - 2):\n",
    "            arg.append(arg[i % 2])\n",
    "    for k, v in kwargs.items():\n",
    "        assert len(v) == 2\n",
    "        for i in range(worker_group.world_size - 2):\n",
    "            v.append(v[i % 2])\n",
    "    return args, kwargs\n",
    "\n",
    "\n",
    "@ray.remote\n",
    "class TestActor(Worker):\n",
    "    # TODO: pass *args and **kwargs is bug prone and not very convincing\n",
    "    def __init__(self, x) -> None:\n",
    "        super().__init__()\n",
    "        self._x = x\n",
    "\n",
    "    def foo(self, y):\n",
    "        return self._x + y\n",
    "\n",
    "    @register(dispatch_mode=Dispatch.ALL_TO_ALL, execute_mode=Execute.RANK_ZERO)\n",
    "    def foo_rank_zero(self, x, y):\n",
    "        return self._x + y + x\n",
    "\n",
    "    @register(dispatch_mode={\"dispatch_fn\": two_to_all_dispatch_fn, \"collect_fn\": collect_all_to_all})\n",
    "    def foo_custom(self, x, y):\n",
    "        return self._x + y + x"
   ]
  },
  {
   "cell_type": "code",
   "execution_count": null,
   "id": "d965a2dc",
   "metadata": {},
   "outputs": [
    {
     "name": "stderr",
     "output_type": "stream",
     "text": [
      "WARNING:2025-04-29 08:32:22,010:Waiting for register center actor 5f4QYr_register_center to be ready. Elapsed time: 0 seconds out of 300 seconds.\n"
     ]
    }
   ],
   "source": [
    "class_with_args = RayClassWithInitArgs(cls=TestActor, x=2)\n",
    "worker_group = RayWorkerGroup(resource_pool, class_with_args)\n",
    "\n",
    "output_ref = worker_group.foo_custom(x=[1, 2], y=[5, 6])\n",
    "assert output_ref == [8, 10, 8, 10]\n",
    "# Worker 0: 2 + 5 + 1 = 8\n",
    "# Worker 1: 2 + 6 + 2 = 10\n",
    "# Worker 2: 2 + 5 + 1 = 8\n",
    "# Worker 3: 2 + 6 + 2 = 10\n",
    "\n",
    "output_ref = worker_group.foo_rank_zero(x=1, y=2)\n",
    "assert output_ref == 5\n",
    "# Worker 0: 2 + 2 + 1 = 5"
   ]
  },
  {
   "cell_type": "code",
   "execution_count": 27,
   "id": "b17a659d",
   "metadata": {},
   "outputs": [],
   "source": [
    "ray.shutdown()"
   ]
  }
 ],
 "metadata": {
  "kernelspec": {
   "display_name": "rl-env",
   "language": "python",
   "name": "python3"
  },
  "language_info": {
   "codemirror_mode": {
    "name": "ipython",
    "version": 3
   },
   "file_extension": ".py",
   "mimetype": "text/x-python",
   "name": "python",
   "nbconvert_exporter": "python",
   "pygments_lexer": "ipython3",
   "version": "3.10.16"
  }
 },
 "nbformat": 4,
 "nbformat_minor": 5
}
