{
 "cells": [
  {
   "cell_type": "code",
   "execution_count": 1,
   "metadata": {},
   "outputs": [
    {
     "name": "stderr",
     "output_type": "stream",
     "text": [
      "/home/zzd/miniconda3/envs/test/lib/python3.10/site-packages/tqdm/auto.py:21: TqdmWarning: IProgress not found. Please update jupyter and ipywidgets. See https://ipywidgets.readthedocs.io/en/stable/user_install.html\n",
      "  from .autonotebook import tqdm as notebook_tqdm\n",
      "Loading checkpoint shards: 100%|██████████| 4/4 [00:08<00:00,  2.03s/it]\n",
      "The attention mask is not set and cannot be inferred from input because pad token is same as eos token. As a consequence, you may observe unexpected behavior. Please pass your input's `attention_mask` to obtain reliable results.\n",
      "The `seen_tokens` attribute is deprecated and will be removed in v4.41. Use the `cache_position` model input instead.\n"
     ]
    },
    {
     "name": "stdout",
     "output_type": "stream",
     "text": [
      " Here's a simple implementation of quicksort in C++:\n",
      "\n",
      "```cpp\n",
      "#include <iostream>\n",
      "#include <vector>\n",
      "\n",
      "void swap(int* a, int* b) {\n",
      "    int t = *a;\n",
      "    *a = *b;\n",
      "    *b = t;\n",
      "}\n",
      "\n",
      "int partition (std::vector<int>& arr, int low, int high) {\n",
      "    int pivot = arr[high]; \n",
      "   \n"
     ]
    }
   ],
   "source": [
    "import torch\n",
    "from transformers import AutoTokenizer, AutoModelForCausalLM, GenerationConfig, BitsAndBytesConfig\n",
    "\n",
    "model_name = \"/data/ckpt/deepseek-ai/DeepSeek-V2-Lite-Chat\"\n",
    "tokenizer = AutoTokenizer.from_pretrained(model_name, trust_remote_code=True)\n",
    "# `max_memory` should be set based on your devices\n",
    "max_memory = {i: \"24GB\" for i in range(8)}\n",
    "# `device_map` cannot be set to `auto`\n",
    "nf4_config = BitsAndBytesConfig(load_in_4bit=True,\n",
    "                                bnb_4bit_quant_type=\"nf4\",\n",
    "                                bnb_4bit_compute_dtype=torch.bfloat16,\n",
    "                                )\n",
    "\n",
    "model = AutoModelForCausalLM.from_pretrained(\n",
    "    model_name, \n",
    "    trust_remote_code=True, \n",
    "    # quantization_config=nf4_config,\n",
    "    device_map=\"auto\", \n",
    "    torch_dtype=torch.bfloat16, \n",
    "    max_memory=max_memory, \n",
    "    attn_implementation=\"eager\")\n",
    "\n",
    "model.generation_config = GenerationConfig.from_pretrained(model_name)\n",
    "model.generation_config.pad_token_id = model.generation_config.eos_token_id\n",
    "\n",
    "messages = [\n",
    "    {\"role\": \"user\", \"content\": \"Write a piece of quicksort code in C++\"}\n",
    "]\n",
    "input_tensor = tokenizer.apply_chat_template(messages, add_generation_prompt=True, return_tensors=\"pt\")\n",
    "outputs = model.generate(input_tensor.to(model.device), max_new_tokens=100)\n",
    "\n",
    "result = tokenizer.decode(outputs[0][input_tensor.shape[1]:], skip_special_tokens=True)\n",
    "print(result)"
   ]
  },
  {
   "cell_type": "code",
   "execution_count": 18,
   "metadata": {},
   "outputs": [],
   "source": [
    "import json\n",
    "from transformers import AutoConfig\n",
    "from transformers.configuration_utils import PretrainedConfig\n",
    "with open(\"./config.json\", \"r\") as f:\n",
    "    config_dict = json.load(f)\n",
    "# config = PretrainedConfig(**config_dict)\n",
    "from configuration_deepseek import DeepseekV2Config \n",
    "\n",
    "config = DeepseekV2Config(**config_dict)"
   ]
  },
  {
   "cell_type": "code",
   "execution_count": 19,
   "metadata": {},
   "outputs": [
    {
     "data": {
      "text/plain": [
       "DeepseekV2Config {\n",
       "  \"architectures\": [\n",
       "    \"DeepseekV2ForCausalLM\"\n",
       "  ],\n",
       "  \"attention_bias\": false,\n",
       "  \"attention_dropout\": 0.0,\n",
       "  \"auto_map\": {\n",
       "    \"AutoConfig\": \"configuration_deepseek.DeepseekV2Config\",\n",
       "    \"AutoModel\": \"modeling_deepseek.DeepseekV2Model\",\n",
       "    \"AutoModelForCausalLM\": \"modeling_deepseek.DeepseekV2ForCausalLM\"\n",
       "  },\n",
       "  \"aux_loss_alpha\": 0.001,\n",
       "  \"bos_token_id\": 100000,\n",
       "  \"eos_token_id\": 100001,\n",
       "  \"ep_size\": 1,\n",
       "  \"first_k_dense_replace\": 1,\n",
       "  \"hidden_act\": \"silu\",\n",
       "  \"hidden_size\": 2048,\n",
       "  \"initializer_range\": 0.02,\n",
       "  \"intermediate_size\": 10944,\n",
       "  \"kv_lora_rank\": 512,\n",
       "  \"max_position_embeddings\": 4096,\n",
       "  \"model_type\": \"deepseek_v2\",\n",
       "  \"moe_intermediate_size\": 1408,\n",
       "  \"moe_layer_freq\": 1,\n",
       "  \"n_group\": 1,\n",
       "  \"n_routed_experts\": 64,\n",
       "  \"n_shared_experts\": 2,\n",
       "  \"norm_topk_prob\": false,\n",
       "  \"num_attention_heads\": 16,\n",
       "  \"num_experts_per_tok\": 6,\n",
       "  \"num_hidden_layers\": 27,\n",
       "  \"num_key_value_heads\": 16,\n",
       "  \"pretraining_tp\": 1,\n",
       "  \"q_lora_rank\": null,\n",
       "  \"qk_nope_head_dim\": 128,\n",
       "  \"qk_rope_head_dim\": 64,\n",
       "  \"rms_norm_eps\": 1e-06,\n",
       "  \"rope_scaling\": null,\n",
       "  \"rope_theta\": 10000,\n",
       "  \"routed_scaling_factor\": 1.0,\n",
       "  \"scoring_func\": \"softmax\",\n",
       "  \"seq_aux\": true,\n",
       "  \"tie_word_embeddings\": false,\n",
       "  \"topk_group\": 1,\n",
       "  \"topk_method\": \"greedy\",\n",
       "  \"torch_dtype\": \"bfloat16\",\n",
       "  \"transformers_version\": \"4.49.0\",\n",
       "  \"use_cache\": true,\n",
       "  \"v_head_dim\": 128,\n",
       "  \"vocab_size\": 102400\n",
       "}"
      ]
     },
     "execution_count": 19,
     "metadata": {},
     "output_type": "execute_result"
    }
   ],
   "source": [
    "config"
   ]
  },
  {
   "cell_type": "code",
   "execution_count": 14,
   "metadata": {},
   "outputs": [
    {
     "ename": "ImportError",
     "evalue": "cannot import name 'DeepseekConfig' from 'configuration_deepseek' (/data/zzd/tools/AI_analysis/moe_ep/configuration_deepseek.py)",
     "output_type": "error",
     "traceback": [
      "\u001b[0;31m---------------------------------------------------------------------------\u001b[0m",
      "\u001b[0;31mImportError\u001b[0m                               Traceback (most recent call last)",
      "Cell \u001b[0;32mIn[14], line 1\u001b[0m\n\u001b[0;32m----> 1\u001b[0m \u001b[38;5;28;01mfrom\u001b[39;00m \u001b[38;5;21;01mconfiguration_deepseek\u001b[39;00m \u001b[38;5;28;01mimport\u001b[39;00m DeepseekConfig \n\u001b[1;32m      3\u001b[0m config \u001b[38;5;241m=\u001b[39m DeepseekConfig\u001b[38;5;241m.\u001b[39mfrom_pretrained(\u001b[38;5;124m\"\u001b[39m\u001b[38;5;124m./config.json\u001b[39m\u001b[38;5;124m\"\u001b[39m)\n",
      "\u001b[0;31mImportError\u001b[0m: cannot import name 'DeepseekConfig' from 'configuration_deepseek' (/data/zzd/tools/AI_analysis/moe_ep/configuration_deepseek.py)"
     ]
    }
   ],
   "source": [
    "from configuration_deepseek import DeepseekConfig \n",
    "\n",
    "config = DeepseekConfig.from_pretrained(\"./config.json\")"
   ]
  }
 ],
 "metadata": {
  "kernelspec": {
   "display_name": "test",
   "language": "python",
   "name": "python3"
  },
  "language_info": {
   "codemirror_mode": {
    "name": "ipython",
    "version": 3
   },
   "file_extension": ".py",
   "mimetype": "text/x-python",
   "name": "python",
   "nbconvert_exporter": "python",
   "pygments_lexer": "ipython3",
   "version": "3.10.16"
  }
 },
 "nbformat": 4,
 "nbformat_minor": 2
}
