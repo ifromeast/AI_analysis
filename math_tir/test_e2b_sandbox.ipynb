{
 "cells": [
  {
   "cell_type": "code",
   "execution_count": 23,
   "id": "37bb70a9",
   "metadata": {},
   "outputs": [
    {
     "name": "stdout",
     "output_type": "stream",
     "text": [
      "['1/3\\n']\n"
     ]
    }
   ],
   "source": [
    "from dotenv import load_dotenv\n",
    "load_dotenv()\n",
    "from e2b_code_interpreter import Sandbox, AsyncSandbox\n",
    "\n",
    "sandbox = Sandbox(timeout=60)\n",
    "\n",
    "script = \"\"\"\n",
    "import sympy as sp\n",
    "\n",
    "# Define the variable\n",
    "x = sp.symbols('x')\n",
    "\n",
    "# Define the function to integrate\n",
    "f = x**2\n",
    "\n",
    "# Compute the definite integral from 0 to 1\n",
    "integral_value = sp.integrate(f, (x, 0, 1))\n",
    "\n",
    "# Print the result\n",
    "print(integral_value)\n",
    "\"\"\"\n",
    "language = 'python'\n",
    "\n",
    "execution = sandbox.run_code(script, language=language)\n",
    "print(execution.logs.stdout)\n"
   ]
  },
  {
   "cell_type": "code",
   "execution_count": 24,
   "id": "6379f383",
   "metadata": {},
   "outputs": [],
   "source": [
    "SANDBOX_TIMEOUT = 30\n",
    "MARGIN = 2\n",
    "REQUEST_TIMEOUT = SANDBOX_TIMEOUT - MARGIN\n",
    "ASYNCIO_TIMEOUT = SANDBOX_TIMEOUT + MARGIN\n",
    "\n",
    "sandbox = await AsyncSandbox.create(timeout=SANDBOX_TIMEOUT, request_timeout=REQUEST_TIMEOUT)"
   ]
  },
  {
   "cell_type": "code",
   "execution_count": 26,
   "id": "f42dfaef",
   "metadata": {},
   "outputs": [
    {
     "name": "stdout",
     "output_type": "stream",
     "text": [
      "['1/3\\n']\n"
     ]
    }
   ],
   "source": [
    "import asyncio\n",
    "\n",
    "script = \"\"\"\n",
    "import sympy as sp\n",
    "\n",
    "# Define the variable\n",
    "x = sp.symbols('x')\n",
    "\n",
    "# Define the function to integrate\n",
    "f = x**2\n",
    "\n",
    "# Compute the definite integral from 0 to 1\n",
    "integral_value = sp.integrate(f, (x, 0, 1))\n",
    "\n",
    "# Print the result\n",
    "print(integral_value)\n",
    "\"\"\"\n",
    "language = 'python'\n",
    "\n",
    "execution = await asyncio.wait_for(sandbox.run_code(script, language=language), timeout=ASYNCIO_TIMEOUT)\n",
    "print(execution.logs.stdout)"
   ]
  }
 ],
 "metadata": {
  "kernelspec": {
   "display_name": "base",
   "language": "python",
   "name": "python3"
  },
  "language_info": {
   "codemirror_mode": {
    "name": "ipython",
    "version": 3
   },
   "file_extension": ".py",
   "mimetype": "text/x-python",
   "name": "python",
   "nbconvert_exporter": "python",
   "pygments_lexer": "ipython3",
   "version": "3.12.4"
  }
 },
 "nbformat": 4,
 "nbformat_minor": 5
}
