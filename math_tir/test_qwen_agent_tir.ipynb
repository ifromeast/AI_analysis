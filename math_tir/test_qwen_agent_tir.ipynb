{
 "cells": [
  {
   "cell_type": "code",
   "execution_count": 15,
   "id": "0955deb8",
   "metadata": {},
   "outputs": [
    {
     "name": "stdout",
     "output_type": "stream",
     "text": [
      "To find the integral of \\(x^2\\) from 0 to 1, we can use the fundamental theorem of calculus. The integral of \\(x^2\\) with respect to \\(x\\) is \\(\\frac{x^3}{3}\\). Evaluating this from 0 to 1 gives us:\n",
      "\n",
      "\\[\n",
      "\\int_{0}^{1} x^2 \\, dx = \\left. \\frac{x^3}{3} \\right|_{0}^{1} = \\frac{1^3}{3} - \\frac{0^3}{3} = \\frac{1}{3}\n",
      "\\]\n",
      "\n",
      "Let's confirm this using Python and the sympy library.\n",
      "\n",
      "```python\n",
      "import sympy as sp\n",
      "\n",
      "# Define the variable\n",
      "x = sp.symbols('x')\n",
      "\n",
      "# Define the function to integrate\n",
      "f = x**2\n",
      "\n",
      "# Compute the definite integral from 0 to 1\n",
      "integral_result = sp.integrate(f, (x, 0, 1))\n",
      "\n",
      "# Print the result\n",
      "print(integral_result)\n",
      "```\n",
      "```output\n",
      "1/3\n",
      "```\n",
      "The integral of \\(x^2\\) from 0 to 1 is \\(\\boxed{\\frac{1}{3}}\\).\n"
     ]
    }
   ],
   "source": [
    "\n",
    "from openai import OpenAI\n",
    "\n",
    "base_url='http://localhost:8000/v1'\n",
    "client = OpenAI(api_key='token-abc123', base_url=base_url)\n",
    "\n",
    "gen_config = {\n",
    "    'max_input_tokens': 10000,\n",
    "    'max_tokens': 2048,\n",
    "    'temperature': 0.3,\n",
    "    'top_p': 0.6\n",
    "}\n",
    "\n",
    "\n",
    "llm_cfg = {\n",
    "        # Use a model service compatible with the OpenAI API\n",
    "        'model': client.models.list().data[0].id,\n",
    "        'model_server': client.base_url.__str__(),  # base_url, also known as api_base\n",
    "        'api_key': client.api_key,\n",
    "        'generate_cfg': gen_config\n",
    "    }\n",
    "\n",
    "\n",
    "from qwen_agent.agents import TIRMathAgent\n",
    "\n",
    "tir_prompt = \"\"\"Please integrate natural language reasoning with programs to solve the problem above, and put your final answer within \\\\boxed{}.\"\"\"\n",
    "\n",
    "tir_agent = TIRMathAgent(llm=llm_cfg, name=\"Qwen2.5-Math\", system_message=tir_prompt)\n",
    "question = \"What is the integral of x^2 from 0 to 1?\"\n",
    "messages = [{'role': 'user', 'content': question}]\n",
    "*_, last = tir_agent.run(messages, function_list=['code_interpreter'])\n",
    "\n",
    "print(last[-1]['content'])\n"
   ]
  },
  {
   "cell_type": "markdown",
   "id": "5f155d71",
   "metadata": {},
   "source": [
    "接下来逐步展示以上过程的细节"
   ]
  },
  {
   "cell_type": "code",
   "execution_count": 16,
   "id": "0266e330",
   "metadata": {},
   "outputs": [],
   "source": [
    "import json\n",
    "from typing import Tuple\n",
    "\n",
    "from qwen_agent.tools.python_executor import PythonExecutor\n",
    "\n",
    "\n",
    "def extract_program(result: str, last_only=True):\n",
    "    \"\"\"\n",
    "    extract the program after \"```python\", and before \"```\"\n",
    "    \"\"\"\n",
    "    program = ''\n",
    "    start = False\n",
    "    for line in result.split('\\n'):\n",
    "        if line.startswith('```python') or line.endswith('```python'):\n",
    "            if last_only:\n",
    "                program = ''  # only extract the last program\n",
    "            else:\n",
    "                program += '\\n# ========\\n'\n",
    "            start = True\n",
    "        elif line.startswith('```'):\n",
    "            start = False\n",
    "        elif start:\n",
    "            program += line + '\\n'\n",
    "    if start:\n",
    "        # the code is incomplete\n",
    "        program = ''\n",
    "    return program\n",
    "\n",
    "def _detect_tool(text: str) -> Tuple[bool, str, str, str]:\n",
    "    program = extract_program(text)\n",
    "    if program:\n",
    "        program = json.dumps({'code': program}, ensure_ascii=False)\n",
    "    return (program != ''), PythonExecutor.name, program, text\n"
   ]
  },
  {
   "cell_type": "markdown",
   "id": "adcad3df",
   "metadata": {},
   "source": [
    "检测及解析生成结果"
   ]
  },
  {
   "cell_type": "code",
   "execution_count": 20,
   "id": "fee33e00",
   "metadata": {},
   "outputs": [],
   "source": [
    "\n",
    "messages = [{'role': 'system', 'content': tir_prompt}, {'role': 'user', 'content': question}]\n",
    "for output in tir_agent._call_llm(messages=messages, stream=True):\n",
    "    pass\n",
    "    \n",
    "has_action, action, action_input, thought = _detect_tool(output[-1]['content'])"
   ]
  },
  {
   "cell_type": "code",
   "execution_count": null,
   "id": "30a47da7",
   "metadata": {},
   "outputs": [
    {
     "name": "stdout",
     "output_type": "stream",
     "text": [
      "has Action: True\n",
      "Action: python_executor\n",
      "Action Input: {\"code\": \"import sympy as sp\\n\\n# Define the variable\\nx = sp.symbols('x')\\n\\n# Define the function to integrate\\nf = x**2\\n\\n# Compute the definite integral from 0 to 1\\nintegral_value = sp.integrate(f, (x, 0, 1))\\n\\n# Print the result\\nprint(integral_value)\\n\"}\n",
      "Thought: To find the integral of \\(x^2\\) from 0 to 1, we can use the fundamental theorem of calculus. The integral of \\(x^2\\) with respect to \\(x\\) is \\(\\frac{x^3}{3}\\). Evaluating this from 0 to 1 gives us:\n",
      "\n",
      "\\[\n",
      "\\int_{0}^{1} x^2 \\, dx = \\left. \\frac{x^3}{3} \\right|_{0}^{1} = \\frac{1^3}{3} - \\frac{0^3}{3} = \\frac{1}{3}\n",
      "\\]\n",
      "\n",
      "Let's confirm this using Python and the sympy library.\n",
      "\n",
      "```python\n",
      "import sympy as sp\n",
      "\n",
      "# Define the variable\n",
      "x = sp.symbols('x')\n",
      "\n",
      "# Define the function to integrate\n",
      "f = x**2\n",
      "\n",
      "# Compute the definite integral from 0 to 1\n",
      "integral_value = sp.integrate(f, (x, 0, 1))\n",
      "\n",
      "# Print the result\n",
      "print(integral_value)\n",
      "```\n",
      "\n"
     ]
    }
   ],
   "source": [
    "print(f\"has Action: {has_action}\")\n",
    "print(f\"Action: {action}\")\n",
    "print(f\"Action Input: {action_input}\")\n",
    "print(f\"Thought: {thought}\")"
   ]
  },
  {
   "cell_type": "markdown",
   "id": "8ef8320b",
   "metadata": {},
   "source": [
    "工具执行"
   ]
  },
  {
   "cell_type": "code",
   "execution_count": 26,
   "id": "e7c2d8ca",
   "metadata": {},
   "outputs": [
    {
     "name": "stdout",
     "output_type": "stream",
     "text": [
      "raw Observation: [\n",
      "    \"1/3\",\n",
      "    \"Done\"\n",
      "]\n",
      "parsed Observation:\n",
      " ```output\n",
      "1/3\n",
      "```\n",
      "\n"
     ]
    }
   ],
   "source": [
    "import json5\n",
    "\n",
    "OBS_START = '```output'\n",
    "OBS_END = '\\n```\\n'\n",
    "observation = tir_agent._call_tool(action, action_input, messages=messages)\n",
    "print(f\"raw Observation: {observation}\")\n",
    "\n",
    "observation_list = json5.loads(observation)\n",
    "if observation_list[-1] == 'Done':\n",
    "    observation = observation_list[0]\n",
    "else:\n",
    "    observation = observation_list[-1]\n",
    "\n",
    "observation = observation.strip()\n",
    "observation = f'{OBS_START}\\n{observation}{OBS_END}'\n",
    "\n",
    "print(f\"parsed Observation:\\n {observation}\")"
   ]
  },
  {
   "cell_type": "markdown",
   "id": "a6b6ee51",
   "metadata": {},
   "source": [
    "组合输出"
   ]
  },
  {
   "cell_type": "code",
   "execution_count": 28,
   "id": "28fea3b5",
   "metadata": {},
   "outputs": [
    {
     "name": "stdout",
     "output_type": "stream",
     "text": [
      "New output:\n",
      " The integral of \\(x^2\\) from 0 to 1 is \\(\\boxed{\\frac{1}{3}}\\). The Python code confirms that the result is correct.\n",
      "Final answer:\n",
      " To find the integral of \\(x^2\\) from 0 to 1, we can use the fundamental theorem of calculus. The integral of \\(x^2\\) with respect to \\(x\\) is \\(\\frac{x^3}{3}\\). Evaluating this from 0 to 1 gives us:\n",
      "\n",
      "\\[\n",
      "\\int_{0}^{1} x^2 \\, dx = \\left. \\frac{x^3}{3} \\right|_{0}^{1} = \\frac{1^3}{3} - \\frac{0^3}{3} = \\frac{1}{3}\n",
      "\\]\n",
      "\n",
      "Let's confirm this using Python and the sympy library.\n",
      "\n",
      "```python\n",
      "import sympy as sp\n",
      "\n",
      "# Define the variable\n",
      "x = sp.symbols('x')\n",
      "\n",
      "# Define the function to integrate\n",
      "f = x**2\n",
      "\n",
      "# Compute the definite integral from 0 to 1\n",
      "integral_value = sp.integrate(f, (x, 0, 1))\n",
      "\n",
      "# Print the result\n",
      "print(integral_value)\n",
      "```\n",
      "```output\n",
      "1/3\n",
      "```\n",
      "The integral of \\(x^2\\) from 0 to 1 is \\(\\boxed{\\frac{1}{3}}\\). The Python code confirms that the result is correct.\n"
     ]
    }
   ],
   "source": [
    "response = output[-1]['content']\n",
    "if not response.endswith('\\n'):\n",
    "    response += '\\n'\n",
    "response += observation\n",
    "\n",
    "new_messages = [{'role': 'system', 'content': tir_prompt}, {'role': 'user', 'content': response}]\n",
    "for new_out in tir_agent._call_llm(messages=new_messages, stream=True):\n",
    "    pass\n",
    "print(f\"New output:\\n {new_out[-1]['content']}\")\n",
    "\n",
    "# The final answer is in the last message\n",
    "response += new_out[-1]['content']\n",
    "print(f\"Final answer:\\n {response}\")"
   ]
  }
 ],
 "metadata": {
  "kernelspec": {
   "display_name": "base",
   "language": "python",
   "name": "python3"
  },
  "language_info": {
   "codemirror_mode": {
    "name": "ipython",
    "version": 3
   },
   "file_extension": ".py",
   "mimetype": "text/x-python",
   "name": "python",
   "nbconvert_exporter": "python",
   "pygments_lexer": "ipython3",
   "version": "3.12.4"
  }
 },
 "nbformat": 4,
 "nbformat_minor": 5
}
