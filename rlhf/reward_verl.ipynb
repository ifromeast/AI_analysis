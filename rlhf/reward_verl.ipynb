{
 "cells": [
  {
   "cell_type": "code",
   "execution_count": 2,
   "id": "433a71d8",
   "metadata": {},
   "outputs": [
    {
     "name": "stdout",
     "output_type": "stream",
     "text": [
      "Advantages: tensor([[  0.,  -1.,  -3.],\n",
      "        [ -6., -10.,   0.]])\n",
      "Returns: tensor([[6., 5., 3.],\n",
      "        [9., 5., 0.]])\n"
     ]
    }
   ],
   "source": [
    "import torch\n",
    "\n",
    "\n",
    "def compute_remax_outcome_advantage(token_level_rewards: torch.Tensor, reward_baselines: torch.Tensor,\n",
    "                                    response_mask: torch.Tensor):\n",
    "    \"\"\"\n",
    "    Compute advantage for ReMax, operating only on Outcome reward \n",
    "    This implementation is based on the paper: https://arxiv.org/abs/2310.10505\n",
    "\n",
    "    (with only one scalar reward for each response).\n",
    "    Args:\n",
    "        token_level_rewards: `(torch.Tensor)`\n",
    "            shape: (bs, response_length)\n",
    "        reward_baselines: `(torch.Tensor)`\n",
    "            shape: (bs,)\n",
    "        response_mask: `(torch.Tensor)`\n",
    "            shape: (bs, response_length)\n",
    "    \n",
    "    Returns:\n",
    "        advantages: `(torch.Tensor)`\n",
    "            shape: (bs, response_length)\n",
    "        Returns: `(torch.Tensor)`\n",
    "            shape: (bs, response_length)\n",
    "    \"\"\"\n",
    "\n",
    "    with torch.no_grad():\n",
    "        returns = (token_level_rewards * response_mask).flip(dims=[-1]).cumsum(dim=-1).flip(dims=[-1])\n",
    "        advantages = returns - reward_baselines.unsqueeze(-1) * response_mask\n",
    "\n",
    "    return advantages, returns\n",
    "\n",
    "token_level_rewards = torch.tensor([[1.0, 2.0, 3.0], [4.0, 5.0, 6.0]])\n",
    "reward_baselines = torch.tensor([6.0, 15.0])\n",
    "response_mask = torch.tensor([[1, 1, 1], [1, 1, 0]])\n",
    "\n",
    "advantages, returns = compute_remax_outcome_advantage(token_level_rewards, reward_baselines, response_mask)\n",
    "print(\"Advantages:\", advantages)\n",
    "print(\"Returns:\", returns)\n"
   ]
  }
 ],
 "metadata": {
  "kernelspec": {
   "display_name": "rl-env",
   "language": "python",
   "name": "python3"
  },
  "language_info": {
   "codemirror_mode": {
    "name": "ipython",
    "version": 3
   },
   "file_extension": ".py",
   "mimetype": "text/x-python",
   "name": "python",
   "nbconvert_exporter": "python",
   "pygments_lexer": "ipython3",
   "version": "3.10.16"
  }
 },
 "nbformat": 4,
 "nbformat_minor": 5
}
